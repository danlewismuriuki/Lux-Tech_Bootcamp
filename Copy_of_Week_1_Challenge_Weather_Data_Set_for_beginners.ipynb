{
  "nbformat": 4,
  "nbformat_minor": 0,
  "metadata": {
    "colab": {
      "provenance": []
    },
    "kernelspec": {
      "name": "python3",
      "display_name": "Python 3"
    },
    "language_info": {
      "name": "python"
    }
  },
  "cells": [
    {
      "cell_type": "code",
      "source": [
        "! pip install kaggle"
      ],
      "metadata": {
        "colab": {
          "base_uri": "https://localhost:8080/"
        },
        "id": "gSlwn9A4AFgG",
        "outputId": "e31c6b86-a049-49c1-b798-f9c6e26342e8"
      },
      "execution_count": 2,
      "outputs": [
        {
          "output_type": "stream",
          "name": "stdout",
          "text": [
            "Requirement already satisfied: kaggle in /usr/local/lib/python3.10/dist-packages (1.6.17)\n",
            "Requirement already satisfied: six>=1.10 in /usr/local/lib/python3.10/dist-packages (from kaggle) (1.16.0)\n",
            "Requirement already satisfied: certifi>=2023.7.22 in /usr/local/lib/python3.10/dist-packages (from kaggle) (2024.7.4)\n",
            "Requirement already satisfied: python-dateutil in /usr/local/lib/python3.10/dist-packages (from kaggle) (2.8.2)\n",
            "Requirement already satisfied: requests in /usr/local/lib/python3.10/dist-packages (from kaggle) (2.31.0)\n",
            "Requirement already satisfied: tqdm in /usr/local/lib/python3.10/dist-packages (from kaggle) (4.66.4)\n",
            "Requirement already satisfied: python-slugify in /usr/local/lib/python3.10/dist-packages (from kaggle) (8.0.4)\n",
            "Requirement already satisfied: urllib3 in /usr/local/lib/python3.10/dist-packages (from kaggle) (2.0.7)\n",
            "Requirement already satisfied: bleach in /usr/local/lib/python3.10/dist-packages (from kaggle) (6.1.0)\n",
            "Requirement already satisfied: webencodings in /usr/local/lib/python3.10/dist-packages (from bleach->kaggle) (0.5.1)\n",
            "Requirement already satisfied: text-unidecode>=1.3 in /usr/local/lib/python3.10/dist-packages (from python-slugify->kaggle) (1.3)\n",
            "Requirement already satisfied: charset-normalizer<4,>=2 in /usr/local/lib/python3.10/dist-packages (from requests->kaggle) (3.3.2)\n",
            "Requirement already satisfied: idna<4,>=2.5 in /usr/local/lib/python3.10/dist-packages (from requests->kaggle) (3.7)\n"
          ]
        }
      ]
    },
    {
      "cell_type": "code",
      "source": [
        "! mkdir ~/.kaggle"
      ],
      "metadata": {
        "id": "_nkt5fAdAVp3"
      },
      "execution_count": 3,
      "outputs": []
    },
    {
      "cell_type": "code",
      "source": [
        "! cp kaggle.json ~/.kaggle/"
      ],
      "metadata": {
        "colab": {
          "base_uri": "https://localhost:8080/"
        },
        "id": "2J__aTEOAcfz",
        "outputId": "5846fcaf-9e06-41c3-f09e-3a7031b1597f"
      },
      "execution_count": 4,
      "outputs": [
        {
          "output_type": "stream",
          "name": "stdout",
          "text": [
            "cp: cannot stat 'kaggle.json': No such file or directory\n"
          ]
        }
      ]
    },
    {
      "cell_type": "code",
      "source": [
        "! chmod 600 ~/.kaggle/kaggle.json"
      ],
      "metadata": {
        "colab": {
          "base_uri": "https://localhost:8080/"
        },
        "id": "260OsxgUAgV-",
        "outputId": "b389a2cc-fd36-4fa2-90b8-328c0ed0fbe5"
      },
      "execution_count": 5,
      "outputs": [
        {
          "output_type": "stream",
          "name": "stdout",
          "text": [
            "chmod: cannot access '/root/.kaggle/kaggle.json': No such file or directory\n"
          ]
        }
      ]
    },
    {
      "cell_type": "code",
      "source": [
        "! kaggle datasets download ayushmi77al/weather-data-set-for-beginners"
      ],
      "metadata": {
        "colab": {
          "base_uri": "https://localhost:8080/"
        },
        "id": "FVXsgfxlAq0X",
        "outputId": "02e81373-904d-471d-fe3d-92cb5edca62e"
      },
      "execution_count": 6,
      "outputs": [
        {
          "output_type": "stream",
          "name": "stdout",
          "text": [
            "Dataset URL: https://www.kaggle.com/datasets/ayushmi77al/weather-data-set-for-beginners\n",
            "License(s): unknown\n",
            "Downloading weather-data-set-for-beginners.zip to /content\n",
            "  0% 0.00/101k [00:00<?, ?B/s]\n",
            "100% 101k/101k [00:00<00:00, 81.0MB/s]\n"
          ]
        }
      ]
    },
    {
      "cell_type": "code",
      "source": [
        "!unzip /content/weather-data-set-for-beginners.zip"
      ],
      "metadata": {
        "colab": {
          "base_uri": "https://localhost:8080/"
        },
        "id": "uYVZw4YeBJdS",
        "outputId": "9882cfbf-a1ec-4226-91c7-faec2bfc1262"
      },
      "execution_count": 7,
      "outputs": [
        {
          "output_type": "stream",
          "name": "stdout",
          "text": [
            "Archive:  /content/weather-data-set-for-beginners.zip\n",
            "  inflating: 1. Weather Data.csv     \n"
          ]
        }
      ]
    },
    {
      "cell_type": "code",
      "source": [
        "import pandas as pd\n",
        "import numpy as np"
      ],
      "metadata": {
        "id": "WivNAZenB3sS"
      },
      "execution_count": 8,
      "outputs": []
    },
    {
      "cell_type": "code",
      "source": [
        "data = pd.read_csv(\"1. Weather Data.csv\")"
      ],
      "metadata": {
        "id": "wqeNOGGgCDy3"
      },
      "execution_count": 9,
      "outputs": []
    },
    {
      "cell_type": "code",
      "source": [
        "data.head()"
      ],
      "metadata": {
        "colab": {
          "base_uri": "https://localhost:8080/",
          "height": 206
        },
        "id": "bYWQYChxCJ5m",
        "outputId": "6b2c8f7a-4a92-4eb5-b9cf-21110148e3a3"
      },
      "execution_count": 10,
      "outputs": [
        {
          "output_type": "execute_result",
          "data": {
            "text/plain": [
              "       Date/Time  Temp_C  Dew Point Temp_C  Rel Hum_%  Wind Speed_km/h  \\\n",
              "0  1/1/2012 0:00    -1.8              -3.9         86                4   \n",
              "1  1/1/2012 1:00    -1.8              -3.7         87                4   \n",
              "2  1/1/2012 2:00    -1.8              -3.4         89                7   \n",
              "3  1/1/2012 3:00    -1.5              -3.2         88                6   \n",
              "4  1/1/2012 4:00    -1.5              -3.3         88                7   \n",
              "\n",
              "   Visibility_km  Press_kPa               Weather  \n",
              "0            8.0     101.24                   Fog  \n",
              "1            8.0     101.24                   Fog  \n",
              "2            4.0     101.26  Freezing Drizzle,Fog  \n",
              "3            4.0     101.27  Freezing Drizzle,Fog  \n",
              "4            4.8     101.23                   Fog  "
            ],
            "text/html": [
              "\n",
              "  <div id=\"df-91d00fec-1f4a-4089-9519-dab36aff4425\" class=\"colab-df-container\">\n",
              "    <div>\n",
              "<style scoped>\n",
              "    .dataframe tbody tr th:only-of-type {\n",
              "        vertical-align: middle;\n",
              "    }\n",
              "\n",
              "    .dataframe tbody tr th {\n",
              "        vertical-align: top;\n",
              "    }\n",
              "\n",
              "    .dataframe thead th {\n",
              "        text-align: right;\n",
              "    }\n",
              "</style>\n",
              "<table border=\"1\" class=\"dataframe\">\n",
              "  <thead>\n",
              "    <tr style=\"text-align: right;\">\n",
              "      <th></th>\n",
              "      <th>Date/Time</th>\n",
              "      <th>Temp_C</th>\n",
              "      <th>Dew Point Temp_C</th>\n",
              "      <th>Rel Hum_%</th>\n",
              "      <th>Wind Speed_km/h</th>\n",
              "      <th>Visibility_km</th>\n",
              "      <th>Press_kPa</th>\n",
              "      <th>Weather</th>\n",
              "    </tr>\n",
              "  </thead>\n",
              "  <tbody>\n",
              "    <tr>\n",
              "      <th>0</th>\n",
              "      <td>1/1/2012 0:00</td>\n",
              "      <td>-1.8</td>\n",
              "      <td>-3.9</td>\n",
              "      <td>86</td>\n",
              "      <td>4</td>\n",
              "      <td>8.0</td>\n",
              "      <td>101.24</td>\n",
              "      <td>Fog</td>\n",
              "    </tr>\n",
              "    <tr>\n",
              "      <th>1</th>\n",
              "      <td>1/1/2012 1:00</td>\n",
              "      <td>-1.8</td>\n",
              "      <td>-3.7</td>\n",
              "      <td>87</td>\n",
              "      <td>4</td>\n",
              "      <td>8.0</td>\n",
              "      <td>101.24</td>\n",
              "      <td>Fog</td>\n",
              "    </tr>\n",
              "    <tr>\n",
              "      <th>2</th>\n",
              "      <td>1/1/2012 2:00</td>\n",
              "      <td>-1.8</td>\n",
              "      <td>-3.4</td>\n",
              "      <td>89</td>\n",
              "      <td>7</td>\n",
              "      <td>4.0</td>\n",
              "      <td>101.26</td>\n",
              "      <td>Freezing Drizzle,Fog</td>\n",
              "    </tr>\n",
              "    <tr>\n",
              "      <th>3</th>\n",
              "      <td>1/1/2012 3:00</td>\n",
              "      <td>-1.5</td>\n",
              "      <td>-3.2</td>\n",
              "      <td>88</td>\n",
              "      <td>6</td>\n",
              "      <td>4.0</td>\n",
              "      <td>101.27</td>\n",
              "      <td>Freezing Drizzle,Fog</td>\n",
              "    </tr>\n",
              "    <tr>\n",
              "      <th>4</th>\n",
              "      <td>1/1/2012 4:00</td>\n",
              "      <td>-1.5</td>\n",
              "      <td>-3.3</td>\n",
              "      <td>88</td>\n",
              "      <td>7</td>\n",
              "      <td>4.8</td>\n",
              "      <td>101.23</td>\n",
              "      <td>Fog</td>\n",
              "    </tr>\n",
              "  </tbody>\n",
              "</table>\n",
              "</div>\n",
              "    <div class=\"colab-df-buttons\">\n",
              "\n",
              "  <div class=\"colab-df-container\">\n",
              "    <button class=\"colab-df-convert\" onclick=\"convertToInteractive('df-91d00fec-1f4a-4089-9519-dab36aff4425')\"\n",
              "            title=\"Convert this dataframe to an interactive table.\"\n",
              "            style=\"display:none;\">\n",
              "\n",
              "  <svg xmlns=\"http://www.w3.org/2000/svg\" height=\"24px\" viewBox=\"0 -960 960 960\">\n",
              "    <path d=\"M120-120v-720h720v720H120Zm60-500h600v-160H180v160Zm220 220h160v-160H400v160Zm0 220h160v-160H400v160ZM180-400h160v-160H180v160Zm440 0h160v-160H620v160ZM180-180h160v-160H180v160Zm440 0h160v-160H620v160Z\"/>\n",
              "  </svg>\n",
              "    </button>\n",
              "\n",
              "  <style>\n",
              "    .colab-df-container {\n",
              "      display:flex;\n",
              "      gap: 12px;\n",
              "    }\n",
              "\n",
              "    .colab-df-convert {\n",
              "      background-color: #E8F0FE;\n",
              "      border: none;\n",
              "      border-radius: 50%;\n",
              "      cursor: pointer;\n",
              "      display: none;\n",
              "      fill: #1967D2;\n",
              "      height: 32px;\n",
              "      padding: 0 0 0 0;\n",
              "      width: 32px;\n",
              "    }\n",
              "\n",
              "    .colab-df-convert:hover {\n",
              "      background-color: #E2EBFA;\n",
              "      box-shadow: 0px 1px 2px rgba(60, 64, 67, 0.3), 0px 1px 3px 1px rgba(60, 64, 67, 0.15);\n",
              "      fill: #174EA6;\n",
              "    }\n",
              "\n",
              "    .colab-df-buttons div {\n",
              "      margin-bottom: 4px;\n",
              "    }\n",
              "\n",
              "    [theme=dark] .colab-df-convert {\n",
              "      background-color: #3B4455;\n",
              "      fill: #D2E3FC;\n",
              "    }\n",
              "\n",
              "    [theme=dark] .colab-df-convert:hover {\n",
              "      background-color: #434B5C;\n",
              "      box-shadow: 0px 1px 3px 1px rgba(0, 0, 0, 0.15);\n",
              "      filter: drop-shadow(0px 1px 2px rgba(0, 0, 0, 0.3));\n",
              "      fill: #FFFFFF;\n",
              "    }\n",
              "  </style>\n",
              "\n",
              "    <script>\n",
              "      const buttonEl =\n",
              "        document.querySelector('#df-91d00fec-1f4a-4089-9519-dab36aff4425 button.colab-df-convert');\n",
              "      buttonEl.style.display =\n",
              "        google.colab.kernel.accessAllowed ? 'block' : 'none';\n",
              "\n",
              "      async function convertToInteractive(key) {\n",
              "        const element = document.querySelector('#df-91d00fec-1f4a-4089-9519-dab36aff4425');\n",
              "        const dataTable =\n",
              "          await google.colab.kernel.invokeFunction('convertToInteractive',\n",
              "                                                    [key], {});\n",
              "        if (!dataTable) return;\n",
              "\n",
              "        const docLinkHtml = 'Like what you see? Visit the ' +\n",
              "          '<a target=\"_blank\" href=https://colab.research.google.com/notebooks/data_table.ipynb>data table notebook</a>'\n",
              "          + ' to learn more about interactive tables.';\n",
              "        element.innerHTML = '';\n",
              "        dataTable['output_type'] = 'display_data';\n",
              "        await google.colab.output.renderOutput(dataTable, element);\n",
              "        const docLink = document.createElement('div');\n",
              "        docLink.innerHTML = docLinkHtml;\n",
              "        element.appendChild(docLink);\n",
              "      }\n",
              "    </script>\n",
              "  </div>\n",
              "\n",
              "\n",
              "<div id=\"df-7fb1166b-dad9-4012-b937-ecfa41d47a85\">\n",
              "  <button class=\"colab-df-quickchart\" onclick=\"quickchart('df-7fb1166b-dad9-4012-b937-ecfa41d47a85')\"\n",
              "            title=\"Suggest charts\"\n",
              "            style=\"display:none;\">\n",
              "\n",
              "<svg xmlns=\"http://www.w3.org/2000/svg\" height=\"24px\"viewBox=\"0 0 24 24\"\n",
              "     width=\"24px\">\n",
              "    <g>\n",
              "        <path d=\"M19 3H5c-1.1 0-2 .9-2 2v14c0 1.1.9 2 2 2h14c1.1 0 2-.9 2-2V5c0-1.1-.9-2-2-2zM9 17H7v-7h2v7zm4 0h-2V7h2v10zm4 0h-2v-4h2v4z\"/>\n",
              "    </g>\n",
              "</svg>\n",
              "  </button>\n",
              "\n",
              "<style>\n",
              "  .colab-df-quickchart {\n",
              "      --bg-color: #E8F0FE;\n",
              "      --fill-color: #1967D2;\n",
              "      --hover-bg-color: #E2EBFA;\n",
              "      --hover-fill-color: #174EA6;\n",
              "      --disabled-fill-color: #AAA;\n",
              "      --disabled-bg-color: #DDD;\n",
              "  }\n",
              "\n",
              "  [theme=dark] .colab-df-quickchart {\n",
              "      --bg-color: #3B4455;\n",
              "      --fill-color: #D2E3FC;\n",
              "      --hover-bg-color: #434B5C;\n",
              "      --hover-fill-color: #FFFFFF;\n",
              "      --disabled-bg-color: #3B4455;\n",
              "      --disabled-fill-color: #666;\n",
              "  }\n",
              "\n",
              "  .colab-df-quickchart {\n",
              "    background-color: var(--bg-color);\n",
              "    border: none;\n",
              "    border-radius: 50%;\n",
              "    cursor: pointer;\n",
              "    display: none;\n",
              "    fill: var(--fill-color);\n",
              "    height: 32px;\n",
              "    padding: 0;\n",
              "    width: 32px;\n",
              "  }\n",
              "\n",
              "  .colab-df-quickchart:hover {\n",
              "    background-color: var(--hover-bg-color);\n",
              "    box-shadow: 0 1px 2px rgba(60, 64, 67, 0.3), 0 1px 3px 1px rgba(60, 64, 67, 0.15);\n",
              "    fill: var(--button-hover-fill-color);\n",
              "  }\n",
              "\n",
              "  .colab-df-quickchart-complete:disabled,\n",
              "  .colab-df-quickchart-complete:disabled:hover {\n",
              "    background-color: var(--disabled-bg-color);\n",
              "    fill: var(--disabled-fill-color);\n",
              "    box-shadow: none;\n",
              "  }\n",
              "\n",
              "  .colab-df-spinner {\n",
              "    border: 2px solid var(--fill-color);\n",
              "    border-color: transparent;\n",
              "    border-bottom-color: var(--fill-color);\n",
              "    animation:\n",
              "      spin 1s steps(1) infinite;\n",
              "  }\n",
              "\n",
              "  @keyframes spin {\n",
              "    0% {\n",
              "      border-color: transparent;\n",
              "      border-bottom-color: var(--fill-color);\n",
              "      border-left-color: var(--fill-color);\n",
              "    }\n",
              "    20% {\n",
              "      border-color: transparent;\n",
              "      border-left-color: var(--fill-color);\n",
              "      border-top-color: var(--fill-color);\n",
              "    }\n",
              "    30% {\n",
              "      border-color: transparent;\n",
              "      border-left-color: var(--fill-color);\n",
              "      border-top-color: var(--fill-color);\n",
              "      border-right-color: var(--fill-color);\n",
              "    }\n",
              "    40% {\n",
              "      border-color: transparent;\n",
              "      border-right-color: var(--fill-color);\n",
              "      border-top-color: var(--fill-color);\n",
              "    }\n",
              "    60% {\n",
              "      border-color: transparent;\n",
              "      border-right-color: var(--fill-color);\n",
              "    }\n",
              "    80% {\n",
              "      border-color: transparent;\n",
              "      border-right-color: var(--fill-color);\n",
              "      border-bottom-color: var(--fill-color);\n",
              "    }\n",
              "    90% {\n",
              "      border-color: transparent;\n",
              "      border-bottom-color: var(--fill-color);\n",
              "    }\n",
              "  }\n",
              "</style>\n",
              "\n",
              "  <script>\n",
              "    async function quickchart(key) {\n",
              "      const quickchartButtonEl =\n",
              "        document.querySelector('#' + key + ' button');\n",
              "      quickchartButtonEl.disabled = true;  // To prevent multiple clicks.\n",
              "      quickchartButtonEl.classList.add('colab-df-spinner');\n",
              "      try {\n",
              "        const charts = await google.colab.kernel.invokeFunction(\n",
              "            'suggestCharts', [key], {});\n",
              "      } catch (error) {\n",
              "        console.error('Error during call to suggestCharts:', error);\n",
              "      }\n",
              "      quickchartButtonEl.classList.remove('colab-df-spinner');\n",
              "      quickchartButtonEl.classList.add('colab-df-quickchart-complete');\n",
              "    }\n",
              "    (() => {\n",
              "      let quickchartButtonEl =\n",
              "        document.querySelector('#df-7fb1166b-dad9-4012-b937-ecfa41d47a85 button');\n",
              "      quickchartButtonEl.style.display =\n",
              "        google.colab.kernel.accessAllowed ? 'block' : 'none';\n",
              "    })();\n",
              "  </script>\n",
              "</div>\n",
              "\n",
              "    </div>\n",
              "  </div>\n"
            ],
            "application/vnd.google.colaboratory.intrinsic+json": {
              "type": "dataframe",
              "variable_name": "data",
              "summary": "{\n  \"name\": \"data\",\n  \"rows\": 8784,\n  \"fields\": [\n    {\n      \"column\": \"Date/Time\",\n      \"properties\": {\n        \"dtype\": \"object\",\n        \"num_unique_values\": 8784,\n        \"samples\": [\n          \"9/23/2012 1:00\",\n          \"3/3/2012 0:00\",\n          \"9/29/2012 11:00\"\n        ],\n        \"semantic_type\": \"\",\n        \"description\": \"\"\n      }\n    },\n    {\n      \"column\": \"Temp_C\",\n      \"properties\": {\n        \"dtype\": \"number\",\n        \"std\": 11.687882769691276,\n        \"min\": -23.3,\n        \"max\": 33.0,\n        \"num_unique_values\": 533,\n        \"samples\": [\n          -0.2,\n          30.1,\n          -11.2\n        ],\n        \"semantic_type\": \"\",\n        \"description\": \"\"\n      }\n    },\n    {\n      \"column\": \"Dew Point Temp_C\",\n      \"properties\": {\n        \"dtype\": \"number\",\n        \"std\": 10.883072319155794,\n        \"min\": -28.5,\n        \"max\": 24.4,\n        \"num_unique_values\": 489,\n        \"samples\": [\n          19.2,\n          -15.4,\n          17.1\n        ],\n        \"semantic_type\": \"\",\n        \"description\": \"\"\n      }\n    },\n    {\n      \"column\": \"Rel Hum_%\",\n      \"properties\": {\n        \"dtype\": \"number\",\n        \"std\": 16,\n        \"min\": 18,\n        \"max\": 100,\n        \"num_unique_values\": 83,\n        \"samples\": [\n          50,\n          86,\n          54\n        ],\n        \"semantic_type\": \"\",\n        \"description\": \"\"\n      }\n    },\n    {\n      \"column\": \"Wind Speed_km/h\",\n      \"properties\": {\n        \"dtype\": \"number\",\n        \"std\": 8,\n        \"min\": 0,\n        \"max\": 83,\n        \"num_unique_values\": 34,\n        \"samples\": [\n          26,\n          37,\n          46\n        ],\n        \"semantic_type\": \"\",\n        \"description\": \"\"\n      }\n    },\n    {\n      \"column\": \"Visibility_km\",\n      \"properties\": {\n        \"dtype\": \"number\",\n        \"std\": 12.622688245171492,\n        \"min\": 0.2,\n        \"max\": 48.3,\n        \"num_unique_values\": 24,\n        \"samples\": [\n          19.3,\n          2.0,\n          8.0\n        ],\n        \"semantic_type\": \"\",\n        \"description\": \"\"\n      }\n    },\n    {\n      \"column\": \"Press_kPa\",\n      \"properties\": {\n        \"dtype\": \"number\",\n        \"std\": 0.8440047459486483,\n        \"min\": 97.52,\n        \"max\": 103.65,\n        \"num_unique_values\": 518,\n        \"samples\": [\n          98.44,\n          101.05,\n          101.15\n        ],\n        \"semantic_type\": \"\",\n        \"description\": \"\"\n      }\n    },\n    {\n      \"column\": \"Weather\",\n      \"properties\": {\n        \"dtype\": \"category\",\n        \"num_unique_values\": 50,\n        \"samples\": [\n          \"Rain,Snow\",\n          \"Rain,Snow,Fog\",\n          \"Thunderstorms,Rain Showers\"\n        ],\n        \"semantic_type\": \"\",\n        \"description\": \"\"\n      }\n    }\n  ]\n}"
            }
          },
          "metadata": {},
          "execution_count": 10
        }
      ]
    },
    {
      "cell_type": "code",
      "source": [
        "data.tail()"
      ],
      "metadata": {
        "colab": {
          "base_uri": "https://localhost:8080/",
          "height": 206
        },
        "id": "BagjWi9pCMzp",
        "outputId": "a0876deb-e82d-4903-9331-da5836ca1201"
      },
      "execution_count": 11,
      "outputs": [
        {
          "output_type": "execute_result",
          "data": {
            "text/plain": [
              "             Date/Time  Temp_C  Dew Point Temp_C  Rel Hum_%  Wind Speed_km/h  \\\n",
              "8779  12/31/2012 19:00     0.1              -2.7         81               30   \n",
              "8780  12/31/2012 20:00     0.2              -2.4         83               24   \n",
              "8781  12/31/2012 21:00    -0.5              -1.5         93               28   \n",
              "8782  12/31/2012 22:00    -0.2              -1.8         89               28   \n",
              "8783  12/31/2012 23:00     0.0              -2.1         86               30   \n",
              "\n",
              "      Visibility_km  Press_kPa Weather  \n",
              "8779            9.7     100.13    Snow  \n",
              "8780            9.7     100.03    Snow  \n",
              "8781            4.8      99.95    Snow  \n",
              "8782            9.7      99.91    Snow  \n",
              "8783           11.3      99.89    Snow  "
            ],
            "text/html": [
              "\n",
              "  <div id=\"df-c8002f71-a0cc-4673-8fe0-97326688003d\" class=\"colab-df-container\">\n",
              "    <div>\n",
              "<style scoped>\n",
              "    .dataframe tbody tr th:only-of-type {\n",
              "        vertical-align: middle;\n",
              "    }\n",
              "\n",
              "    .dataframe tbody tr th {\n",
              "        vertical-align: top;\n",
              "    }\n",
              "\n",
              "    .dataframe thead th {\n",
              "        text-align: right;\n",
              "    }\n",
              "</style>\n",
              "<table border=\"1\" class=\"dataframe\">\n",
              "  <thead>\n",
              "    <tr style=\"text-align: right;\">\n",
              "      <th></th>\n",
              "      <th>Date/Time</th>\n",
              "      <th>Temp_C</th>\n",
              "      <th>Dew Point Temp_C</th>\n",
              "      <th>Rel Hum_%</th>\n",
              "      <th>Wind Speed_km/h</th>\n",
              "      <th>Visibility_km</th>\n",
              "      <th>Press_kPa</th>\n",
              "      <th>Weather</th>\n",
              "    </tr>\n",
              "  </thead>\n",
              "  <tbody>\n",
              "    <tr>\n",
              "      <th>8779</th>\n",
              "      <td>12/31/2012 19:00</td>\n",
              "      <td>0.1</td>\n",
              "      <td>-2.7</td>\n",
              "      <td>81</td>\n",
              "      <td>30</td>\n",
              "      <td>9.7</td>\n",
              "      <td>100.13</td>\n",
              "      <td>Snow</td>\n",
              "    </tr>\n",
              "    <tr>\n",
              "      <th>8780</th>\n",
              "      <td>12/31/2012 20:00</td>\n",
              "      <td>0.2</td>\n",
              "      <td>-2.4</td>\n",
              "      <td>83</td>\n",
              "      <td>24</td>\n",
              "      <td>9.7</td>\n",
              "      <td>100.03</td>\n",
              "      <td>Snow</td>\n",
              "    </tr>\n",
              "    <tr>\n",
              "      <th>8781</th>\n",
              "      <td>12/31/2012 21:00</td>\n",
              "      <td>-0.5</td>\n",
              "      <td>-1.5</td>\n",
              "      <td>93</td>\n",
              "      <td>28</td>\n",
              "      <td>4.8</td>\n",
              "      <td>99.95</td>\n",
              "      <td>Snow</td>\n",
              "    </tr>\n",
              "    <tr>\n",
              "      <th>8782</th>\n",
              "      <td>12/31/2012 22:00</td>\n",
              "      <td>-0.2</td>\n",
              "      <td>-1.8</td>\n",
              "      <td>89</td>\n",
              "      <td>28</td>\n",
              "      <td>9.7</td>\n",
              "      <td>99.91</td>\n",
              "      <td>Snow</td>\n",
              "    </tr>\n",
              "    <tr>\n",
              "      <th>8783</th>\n",
              "      <td>12/31/2012 23:00</td>\n",
              "      <td>0.0</td>\n",
              "      <td>-2.1</td>\n",
              "      <td>86</td>\n",
              "      <td>30</td>\n",
              "      <td>11.3</td>\n",
              "      <td>99.89</td>\n",
              "      <td>Snow</td>\n",
              "    </tr>\n",
              "  </tbody>\n",
              "</table>\n",
              "</div>\n",
              "    <div class=\"colab-df-buttons\">\n",
              "\n",
              "  <div class=\"colab-df-container\">\n",
              "    <button class=\"colab-df-convert\" onclick=\"convertToInteractive('df-c8002f71-a0cc-4673-8fe0-97326688003d')\"\n",
              "            title=\"Convert this dataframe to an interactive table.\"\n",
              "            style=\"display:none;\">\n",
              "\n",
              "  <svg xmlns=\"http://www.w3.org/2000/svg\" height=\"24px\" viewBox=\"0 -960 960 960\">\n",
              "    <path d=\"M120-120v-720h720v720H120Zm60-500h600v-160H180v160Zm220 220h160v-160H400v160Zm0 220h160v-160H400v160ZM180-400h160v-160H180v160Zm440 0h160v-160H620v160ZM180-180h160v-160H180v160Zm440 0h160v-160H620v160Z\"/>\n",
              "  </svg>\n",
              "    </button>\n",
              "\n",
              "  <style>\n",
              "    .colab-df-container {\n",
              "      display:flex;\n",
              "      gap: 12px;\n",
              "    }\n",
              "\n",
              "    .colab-df-convert {\n",
              "      background-color: #E8F0FE;\n",
              "      border: none;\n",
              "      border-radius: 50%;\n",
              "      cursor: pointer;\n",
              "      display: none;\n",
              "      fill: #1967D2;\n",
              "      height: 32px;\n",
              "      padding: 0 0 0 0;\n",
              "      width: 32px;\n",
              "    }\n",
              "\n",
              "    .colab-df-convert:hover {\n",
              "      background-color: #E2EBFA;\n",
              "      box-shadow: 0px 1px 2px rgba(60, 64, 67, 0.3), 0px 1px 3px 1px rgba(60, 64, 67, 0.15);\n",
              "      fill: #174EA6;\n",
              "    }\n",
              "\n",
              "    .colab-df-buttons div {\n",
              "      margin-bottom: 4px;\n",
              "    }\n",
              "\n",
              "    [theme=dark] .colab-df-convert {\n",
              "      background-color: #3B4455;\n",
              "      fill: #D2E3FC;\n",
              "    }\n",
              "\n",
              "    [theme=dark] .colab-df-convert:hover {\n",
              "      background-color: #434B5C;\n",
              "      box-shadow: 0px 1px 3px 1px rgba(0, 0, 0, 0.15);\n",
              "      filter: drop-shadow(0px 1px 2px rgba(0, 0, 0, 0.3));\n",
              "      fill: #FFFFFF;\n",
              "    }\n",
              "  </style>\n",
              "\n",
              "    <script>\n",
              "      const buttonEl =\n",
              "        document.querySelector('#df-c8002f71-a0cc-4673-8fe0-97326688003d button.colab-df-convert');\n",
              "      buttonEl.style.display =\n",
              "        google.colab.kernel.accessAllowed ? 'block' : 'none';\n",
              "\n",
              "      async function convertToInteractive(key) {\n",
              "        const element = document.querySelector('#df-c8002f71-a0cc-4673-8fe0-97326688003d');\n",
              "        const dataTable =\n",
              "          await google.colab.kernel.invokeFunction('convertToInteractive',\n",
              "                                                    [key], {});\n",
              "        if (!dataTable) return;\n",
              "\n",
              "        const docLinkHtml = 'Like what you see? Visit the ' +\n",
              "          '<a target=\"_blank\" href=https://colab.research.google.com/notebooks/data_table.ipynb>data table notebook</a>'\n",
              "          + ' to learn more about interactive tables.';\n",
              "        element.innerHTML = '';\n",
              "        dataTable['output_type'] = 'display_data';\n",
              "        await google.colab.output.renderOutput(dataTable, element);\n",
              "        const docLink = document.createElement('div');\n",
              "        docLink.innerHTML = docLinkHtml;\n",
              "        element.appendChild(docLink);\n",
              "      }\n",
              "    </script>\n",
              "  </div>\n",
              "\n",
              "\n",
              "<div id=\"df-25673040-b840-4e7d-b362-c0e73b8d773c\">\n",
              "  <button class=\"colab-df-quickchart\" onclick=\"quickchart('df-25673040-b840-4e7d-b362-c0e73b8d773c')\"\n",
              "            title=\"Suggest charts\"\n",
              "            style=\"display:none;\">\n",
              "\n",
              "<svg xmlns=\"http://www.w3.org/2000/svg\" height=\"24px\"viewBox=\"0 0 24 24\"\n",
              "     width=\"24px\">\n",
              "    <g>\n",
              "        <path d=\"M19 3H5c-1.1 0-2 .9-2 2v14c0 1.1.9 2 2 2h14c1.1 0 2-.9 2-2V5c0-1.1-.9-2-2-2zM9 17H7v-7h2v7zm4 0h-2V7h2v10zm4 0h-2v-4h2v4z\"/>\n",
              "    </g>\n",
              "</svg>\n",
              "  </button>\n",
              "\n",
              "<style>\n",
              "  .colab-df-quickchart {\n",
              "      --bg-color: #E8F0FE;\n",
              "      --fill-color: #1967D2;\n",
              "      --hover-bg-color: #E2EBFA;\n",
              "      --hover-fill-color: #174EA6;\n",
              "      --disabled-fill-color: #AAA;\n",
              "      --disabled-bg-color: #DDD;\n",
              "  }\n",
              "\n",
              "  [theme=dark] .colab-df-quickchart {\n",
              "      --bg-color: #3B4455;\n",
              "      --fill-color: #D2E3FC;\n",
              "      --hover-bg-color: #434B5C;\n",
              "      --hover-fill-color: #FFFFFF;\n",
              "      --disabled-bg-color: #3B4455;\n",
              "      --disabled-fill-color: #666;\n",
              "  }\n",
              "\n",
              "  .colab-df-quickchart {\n",
              "    background-color: var(--bg-color);\n",
              "    border: none;\n",
              "    border-radius: 50%;\n",
              "    cursor: pointer;\n",
              "    display: none;\n",
              "    fill: var(--fill-color);\n",
              "    height: 32px;\n",
              "    padding: 0;\n",
              "    width: 32px;\n",
              "  }\n",
              "\n",
              "  .colab-df-quickchart:hover {\n",
              "    background-color: var(--hover-bg-color);\n",
              "    box-shadow: 0 1px 2px rgba(60, 64, 67, 0.3), 0 1px 3px 1px rgba(60, 64, 67, 0.15);\n",
              "    fill: var(--button-hover-fill-color);\n",
              "  }\n",
              "\n",
              "  .colab-df-quickchart-complete:disabled,\n",
              "  .colab-df-quickchart-complete:disabled:hover {\n",
              "    background-color: var(--disabled-bg-color);\n",
              "    fill: var(--disabled-fill-color);\n",
              "    box-shadow: none;\n",
              "  }\n",
              "\n",
              "  .colab-df-spinner {\n",
              "    border: 2px solid var(--fill-color);\n",
              "    border-color: transparent;\n",
              "    border-bottom-color: var(--fill-color);\n",
              "    animation:\n",
              "      spin 1s steps(1) infinite;\n",
              "  }\n",
              "\n",
              "  @keyframes spin {\n",
              "    0% {\n",
              "      border-color: transparent;\n",
              "      border-bottom-color: var(--fill-color);\n",
              "      border-left-color: var(--fill-color);\n",
              "    }\n",
              "    20% {\n",
              "      border-color: transparent;\n",
              "      border-left-color: var(--fill-color);\n",
              "      border-top-color: var(--fill-color);\n",
              "    }\n",
              "    30% {\n",
              "      border-color: transparent;\n",
              "      border-left-color: var(--fill-color);\n",
              "      border-top-color: var(--fill-color);\n",
              "      border-right-color: var(--fill-color);\n",
              "    }\n",
              "    40% {\n",
              "      border-color: transparent;\n",
              "      border-right-color: var(--fill-color);\n",
              "      border-top-color: var(--fill-color);\n",
              "    }\n",
              "    60% {\n",
              "      border-color: transparent;\n",
              "      border-right-color: var(--fill-color);\n",
              "    }\n",
              "    80% {\n",
              "      border-color: transparent;\n",
              "      border-right-color: var(--fill-color);\n",
              "      border-bottom-color: var(--fill-color);\n",
              "    }\n",
              "    90% {\n",
              "      border-color: transparent;\n",
              "      border-bottom-color: var(--fill-color);\n",
              "    }\n",
              "  }\n",
              "</style>\n",
              "\n",
              "  <script>\n",
              "    async function quickchart(key) {\n",
              "      const quickchartButtonEl =\n",
              "        document.querySelector('#' + key + ' button');\n",
              "      quickchartButtonEl.disabled = true;  // To prevent multiple clicks.\n",
              "      quickchartButtonEl.classList.add('colab-df-spinner');\n",
              "      try {\n",
              "        const charts = await google.colab.kernel.invokeFunction(\n",
              "            'suggestCharts', [key], {});\n",
              "      } catch (error) {\n",
              "        console.error('Error during call to suggestCharts:', error);\n",
              "      }\n",
              "      quickchartButtonEl.classList.remove('colab-df-spinner');\n",
              "      quickchartButtonEl.classList.add('colab-df-quickchart-complete');\n",
              "    }\n",
              "    (() => {\n",
              "      let quickchartButtonEl =\n",
              "        document.querySelector('#df-25673040-b840-4e7d-b362-c0e73b8d773c button');\n",
              "      quickchartButtonEl.style.display =\n",
              "        google.colab.kernel.accessAllowed ? 'block' : 'none';\n",
              "    })();\n",
              "  </script>\n",
              "</div>\n",
              "\n",
              "    </div>\n",
              "  </div>\n"
            ],
            "application/vnd.google.colaboratory.intrinsic+json": {
              "type": "dataframe",
              "repr_error": "0"
            }
          },
          "metadata": {},
          "execution_count": 11
        }
      ]
    },
    {
      "cell_type": "code",
      "source": [
        "data.shape"
      ],
      "metadata": {
        "id": "3vkY2ZdiCPML",
        "outputId": "7a47dc67-bedb-4c63-b5aa-c7ed38516282",
        "colab": {
          "base_uri": "https://localhost:8080/"
        }
      },
      "execution_count": 12,
      "outputs": [
        {
          "output_type": "execute_result",
          "data": {
            "text/plain": [
              "(8784, 8)"
            ]
          },
          "metadata": {},
          "execution_count": 12
        }
      ]
    },
    {
      "cell_type": "code",
      "source": [
        "\n",
        "# Select the 'Weather' column\n",
        "weather_column = data['Weather']\n",
        "\n",
        "# Print the column\n",
        "print(weather_column)\n"
      ],
      "metadata": {
        "colab": {
          "base_uri": "https://localhost:8080/"
        },
        "id": "D0igu1YOXmcz",
        "outputId": "78bf000b-1c3c-42fb-e6da-dfecc0074ea3"
      },
      "execution_count": 13,
      "outputs": [
        {
          "output_type": "stream",
          "name": "stdout",
          "text": [
            "0                        Fog\n",
            "1                        Fog\n",
            "2       Freezing Drizzle,Fog\n",
            "3       Freezing Drizzle,Fog\n",
            "4                        Fog\n",
            "                ...         \n",
            "8779                    Snow\n",
            "8780                    Snow\n",
            "8781                    Snow\n",
            "8782                    Snow\n",
            "8783                    Snow\n",
            "Name: Weather, Length: 8784, dtype: object\n"
          ]
        }
      ]
    },
    {
      "cell_type": "code",
      "source": [
        "# Display unique values in the 'Weather' column\n",
        "unique_weather_values = data['Weather'].unique()\n",
        "print(unique_weather_values)"
      ],
      "metadata": {
        "colab": {
          "base_uri": "https://localhost:8080/"
        },
        "id": "WgI2tKYmaGRN",
        "outputId": "3c04395a-bf94-441f-d62c-dcaacfbd7bbe"
      },
      "execution_count": 14,
      "outputs": [
        {
          "output_type": "stream",
          "name": "stdout",
          "text": [
            "['Fog' 'Freezing Drizzle,Fog' 'Mostly Cloudy' 'Cloudy' 'Rain'\n",
            " 'Rain Showers' 'Mainly Clear' 'Snow Showers' 'Snow' 'Clear'\n",
            " 'Freezing Rain,Fog' 'Freezing Rain' 'Freezing Drizzle' 'Rain,Snow'\n",
            " 'Moderate Snow' 'Freezing Drizzle,Snow' 'Freezing Rain,Snow Grains'\n",
            " 'Snow,Blowing Snow' 'Freezing Fog' 'Haze' 'Rain,Fog' 'Drizzle,Fog'\n",
            " 'Drizzle' 'Freezing Drizzle,Haze' 'Freezing Rain,Haze' 'Snow,Haze'\n",
            " 'Snow,Fog' 'Snow,Ice Pellets' 'Rain,Haze' 'Thunderstorms,Rain'\n",
            " 'Thunderstorms,Rain Showers' 'Thunderstorms,Heavy Rain Showers'\n",
            " 'Thunderstorms,Rain Showers,Fog' 'Thunderstorms' 'Thunderstorms,Rain,Fog'\n",
            " 'Thunderstorms,Moderate Rain Showers,Fog' 'Rain Showers,Fog'\n",
            " 'Rain Showers,Snow Showers' 'Snow Pellets' 'Rain,Snow,Fog'\n",
            " 'Moderate Rain,Fog' 'Freezing Rain,Ice Pellets,Fog'\n",
            " 'Drizzle,Ice Pellets,Fog' 'Drizzle,Snow' 'Rain,Ice Pellets'\n",
            " 'Drizzle,Snow,Fog' 'Rain,Snow Grains' 'Rain,Snow,Ice Pellets'\n",
            " 'Snow Showers,Fog' 'Moderate Snow,Blowing Snow']\n"
          ]
        }
      ]
    },
    {
      "cell_type": "markdown",
      "source": [
        "**1. Find all records where the weather was exactly clear.**"
      ],
      "metadata": {
        "id": "fhvV_k5MotPA"
      }
    },
    {
      "cell_type": "code",
      "source": [
        "data['Weather'] = data['Weather'].str.strip().str.lower()\n",
        "\n",
        "# Filter rows where 'Weather' is 'clear'\n",
        "clear_weather_df = data[data['Weather'] == 'clear']\n",
        "\n",
        "# Print the filtered DataFrame\n",
        "print(clear_weather_df)"
      ],
      "metadata": {
        "colab": {
          "base_uri": "https://localhost:8080/"
        },
        "id": "pyzMGstKZa7I",
        "outputId": "0ad8da91-7b5f-4aa8-f063-343aeba0b5b2"
      },
      "execution_count": 15,
      "outputs": [
        {
          "output_type": "stream",
          "name": "stdout",
          "text": [
            "             Date/Time  Temp_C  Dew Point Temp_C  Rel Hum_%  Wind Speed_km/h  \\\n",
            "67      1/3/2012 19:00   -16.9             -24.8         50               24   \n",
            "114     1/5/2012 18:00    -7.1             -14.4         56               11   \n",
            "115     1/5/2012 19:00    -9.2             -15.4         61                7   \n",
            "116     1/5/2012 20:00    -9.8             -15.7         62                9   \n",
            "117     1/5/2012 21:00    -9.0             -14.8         63               13   \n",
            "...                ...     ...               ...        ...              ...   \n",
            "8646   12/26/2012 6:00   -13.4             -14.8         89                4   \n",
            "8698  12/28/2012 10:00    -6.1              -8.6         82               19   \n",
            "8713   12/29/2012 1:00   -11.9             -13.6         87               11   \n",
            "8714   12/29/2012 2:00   -11.8             -13.1         90               13   \n",
            "8756  12/30/2012 20:00   -13.8             -16.5         80               24   \n",
            "\n",
            "      Visibility_km  Press_kPa Weather  \n",
            "67             25.0     101.74   clear  \n",
            "114            25.0     100.71   clear  \n",
            "115            25.0     100.80   clear  \n",
            "116            25.0     100.83   clear  \n",
            "117            25.0     100.83   clear  \n",
            "...             ...        ...     ...  \n",
            "8646           25.0     102.47   clear  \n",
            "8698           24.1     101.27   clear  \n",
            "8713           25.0     101.31   clear  \n",
            "8714           25.0     101.33   clear  \n",
            "8756           25.0     101.52   clear  \n",
            "\n",
            "[1326 rows x 8 columns]\n"
          ]
        }
      ]
    },
    {
      "cell_type": "code",
      "source": [
        "print(data.columns)"
      ],
      "metadata": {
        "colab": {
          "base_uri": "https://localhost:8080/"
        },
        "id": "NBl4YkYAdeGK",
        "outputId": "21920f17-ba21-44de-c536-c9b4658229e1"
      },
      "execution_count": 16,
      "outputs": [
        {
          "output_type": "stream",
          "name": "stdout",
          "text": [
            "Index(['Date/Time', 'Temp_C', 'Dew Point Temp_C', 'Rel Hum_%',\n",
            "       'Wind Speed_km/h', 'Visibility_km', 'Press_kPa', 'Weather'],\n",
            "      dtype='object')\n"
          ]
        }
      ]
    },
    {
      "cell_type": "code",
      "source": [
        "# Get summary statistics\n",
        "print(data['Wind Speed_km/h'])"
      ],
      "metadata": {
        "colab": {
          "base_uri": "https://localhost:8080/"
        },
        "id": "m1l13mIueW-j",
        "outputId": "995a5b45-693a-4f8d-dbd5-a58cd5e2390f"
      },
      "execution_count": 17,
      "outputs": [
        {
          "output_type": "stream",
          "name": "stdout",
          "text": [
            "0        4\n",
            "1        4\n",
            "2        7\n",
            "3        6\n",
            "4        7\n",
            "        ..\n",
            "8779    30\n",
            "8780    24\n",
            "8781    28\n",
            "8782    28\n",
            "8783    30\n",
            "Name: Wind Speed_km/h, Length: 8784, dtype: int64\n"
          ]
        }
      ]
    },
    {
      "cell_type": "markdown",
      "source": [
        "**2. Find the number of times the wind speed was exactly 4 km/hr.**"
      ],
      "metadata": {
        "id": "jh_k0lCRo9Kd"
      }
    },
    {
      "cell_type": "code",
      "source": [
        "count = 0\n",
        "for x in data['Wind Speed_km/h']:\n",
        "  if x == 4:\n",
        "    count += 1\n",
        "\n",
        "print(count)"
      ],
      "metadata": {
        "colab": {
          "base_uri": "https://localhost:8080/"
        },
        "id": "3fzCFoMVfHhB",
        "outputId": "940503ab-8015-4585-fe2a-437ac8bf6e3d"
      },
      "execution_count": 18,
      "outputs": [
        {
          "output_type": "stream",
          "name": "stdout",
          "text": [
            "474\n"
          ]
        }
      ]
    },
    {
      "cell_type": "markdown",
      "source": [
        "**3. Check if there are any NULL values present in the dataset.**"
      ],
      "metadata": {
        "id": "1tqvoXgSpK88"
      }
    },
    {
      "cell_type": "code",
      "source": [
        "3 # Check if there are any NULL values present in the dataset.\n",
        "print(data.isnull().values.any())"
      ],
      "metadata": {
        "colab": {
          "base_uri": "https://localhost:8080/"
        },
        "id": "MMWdX-PohfyD",
        "outputId": "90c1623c-ad39-4d9d-a88f-a6e9a9ebfdfe"
      },
      "execution_count": 19,
      "outputs": [
        {
          "output_type": "stream",
          "name": "stdout",
          "text": [
            "False\n"
          ]
        }
      ]
    },
    {
      "cell_type": "markdown",
      "source": [
        "**4. Rename the column \"Weather\" to \"Weather_Condition.\"**"
      ],
      "metadata": {
        "id": "gIIxpoVmpU8z"
      }
    },
    {
      "cell_type": "code",
      "source": [
        "Renamed_Weather_column = data.rename(columns = {\"Weather\" : \"Weather_Condition\"}, inplace=True)\n",
        "print(data.columns)"
      ],
      "metadata": {
        "colab": {
          "base_uri": "https://localhost:8080/"
        },
        "id": "3HIbQdVakmRP",
        "outputId": "566a92cc-3516-4463-f5cb-a16d1e3bf11d"
      },
      "execution_count": 20,
      "outputs": [
        {
          "output_type": "stream",
          "name": "stdout",
          "text": [
            "Index(['Date/Time', 'Temp_C', 'Dew Point Temp_C', 'Rel Hum_%',\n",
            "       'Wind Speed_km/h', 'Visibility_km', 'Press_kPa', 'Weather_Condition'],\n",
            "      dtype='object')\n"
          ]
        }
      ]
    },
    {
      "cell_type": "markdown",
      "source": [
        "**5 What is the mean visibility of the dataset?**"
      ],
      "metadata": {
        "id": "wZ4jqcX_pizW"
      }
    },
    {
      "cell_type": "code",
      "source": [
        "print(data['Visibility_km'].mean())"
      ],
      "metadata": {
        "colab": {
          "base_uri": "https://localhost:8080/"
        },
        "id": "sVI6UjHelnsj",
        "outputId": "4172f522-cb11-42c2-a746-d6465c2f4871"
      },
      "execution_count": 21,
      "outputs": [
        {
          "output_type": "stream",
          "name": "stdout",
          "text": [
            "27.664446721311478\n"
          ]
        }
      ]
    },
    {
      "cell_type": "markdown",
      "source": [
        "**6 .Find the number of records where the wind speed is greater than 24 km/hr and visibility is equal to 25 km.**"
      ],
      "metadata": {
        "id": "jQWb4Wk8psgP"
      }
    },
    {
      "cell_type": "code",
      "source": [
        "# Define conditions\n",
        "condition_wind_speed = data['Wind Speed_km/h'] > 24\n",
        "condition_visibility = data['Visibility_km'] == 25\n",
        "\n",
        "# Combine conditions\n",
        "combined_condition = condition_wind_speed & condition_visibility\n",
        "\n",
        "# Count the number of records meeting both conditions\n",
        "count = combined_condition.sum()\n",
        "print(count)"
      ],
      "metadata": {
        "colab": {
          "base_uri": "https://localhost:8080/"
        },
        "id": "PUbovuOHwn96",
        "outputId": "c5f7e25d-c4b7-4a7b-a84a-32a0711e94c4"
      },
      "execution_count": 22,
      "outputs": [
        {
          "output_type": "stream",
          "name": "stdout",
          "text": [
            "308\n"
          ]
        }
      ]
    },
    {
      "cell_type": "code",
      "source": [
        "print(data.dtypes)\n"
      ],
      "metadata": {
        "colab": {
          "base_uri": "https://localhost:8080/"
        },
        "id": "YH-u1InX5sSW",
        "outputId": "3ec7f0b9-f552-4b69-f1f1-78b37b0b38bb"
      },
      "execution_count": 23,
      "outputs": [
        {
          "output_type": "stream",
          "name": "stdout",
          "text": [
            "Date/Time             object\n",
            "Temp_C               float64\n",
            "Dew Point Temp_C     float64\n",
            "Rel Hum_%              int64\n",
            "Wind Speed_km/h        int64\n",
            "Visibility_km        float64\n",
            "Press_kPa            float64\n",
            "Weather_Condition     object\n",
            "dtype: object\n"
          ]
        }
      ]
    },
    {
      "cell_type": "markdown",
      "source": [
        "**7. What is the mean value of each column for each weather condition?**"
      ],
      "metadata": {
        "id": "5nBVokFKp4fD"
      }
    },
    {
      "cell_type": "code",
      "source": [
        "#data['Weather_Condition'] = data['Weather'].str.strip().str.lower()\n",
        "\n",
        "# Select only numeric columns for mean calculation\n",
        "numeric_data = data.select_dtypes(include=['float64', 'int64'])\n",
        "\n",
        "# Group by 'Weather_Condition' and calculate the mean for each numeric column\n",
        "mean_values = numeric_data.groupby(data['Weather_Condition']).mean()\n",
        "\n",
        "# Print the mean values\n",
        "print(mean_values)"
      ],
      "metadata": {
        "colab": {
          "base_uri": "https://localhost:8080/"
        },
        "id": "lDo3BQm57ek8",
        "outputId": "d151838d-93c9-4dd0-e47b-8afc61783cf4"
      },
      "execution_count": 24,
      "outputs": [
        {
          "output_type": "stream",
          "name": "stdout",
          "text": [
            "                                            Temp_C  Dew Point Temp_C  \\\n",
            "Weather_Condition                                                      \n",
            "clear                                     6.825716          0.089367   \n",
            "cloudy                                    7.970544          2.375810   \n",
            "drizzle                                   7.353659          5.504878   \n",
            "drizzle,fog                               8.067500          7.033750   \n",
            "drizzle,ice pellets,fog                   0.400000         -0.700000   \n",
            "drizzle,snow                              1.050000          0.150000   \n",
            "drizzle,snow,fog                          0.693333          0.120000   \n",
            "fog                                       4.303333          3.159333   \n",
            "freezing drizzle                         -5.657143         -8.000000   \n",
            "freezing drizzle,fog                     -2.533333         -4.183333   \n",
            "freezing drizzle,haze                    -5.433333         -8.000000   \n",
            "freezing drizzle,snow                    -5.109091         -7.072727   \n",
            "freezing fog                             -7.575000         -9.250000   \n",
            "freezing rain                            -3.885714         -6.078571   \n",
            "freezing rain,fog                        -2.225000         -3.750000   \n",
            "freezing rain,haze                       -4.900000         -7.450000   \n",
            "freezing rain,ice pellets,fog            -2.600000         -3.700000   \n",
            "freezing rain,snow grains                -5.000000         -7.300000   \n",
            "haze                                     -0.200000         -2.975000   \n",
            "mainly clear                             12.558927          4.581671   \n",
            "moderate rain,fog                         1.700000          0.800000   \n",
            "moderate snow                            -5.525000         -7.250000   \n",
            "moderate snow,blowing snow               -5.450000         -6.500000   \n",
            "mostly cloudy                            10.574287          3.131174   \n",
            "rain                                      9.786275          7.042810   \n",
            "rain showers                             13.722340          9.187766   \n",
            "rain showers,fog                         12.800000         12.100000   \n",
            "rain showers,snow showers                 2.150000         -1.500000   \n",
            "rain,fog                                  8.273276          7.219828   \n",
            "rain,haze                                 4.633333          2.066667   \n",
            "rain,ice pellets                          0.600000         -0.600000   \n",
            "rain,snow                                 1.055556         -0.566667   \n",
            "rain,snow grains                          1.900000         -2.100000   \n",
            "rain,snow,fog                             0.800000          0.300000   \n",
            "rain,snow,ice pellets                     1.100000         -0.175000   \n",
            "snow                                     -4.524103         -7.623333   \n",
            "snow pellets                              0.700000         -6.400000   \n",
            "snow showers                             -3.506667         -7.866667   \n",
            "snow showers,fog                        -10.675000        -11.900000   \n",
            "snow,blowing snow                        -5.410526         -7.621053   \n",
            "snow,fog                                 -5.075676         -6.364865   \n",
            "snow,haze                                -4.020000         -6.860000   \n",
            "snow,ice pellets                         -1.883333         -3.666667   \n",
            "thunderstorms                            24.150000         19.750000   \n",
            "thunderstorms,heavy rain showers         10.900000          9.000000   \n",
            "thunderstorms,moderate rain showers,fog  19.600000         18.500000   \n",
            "thunderstorms,rain                       20.433333         18.533333   \n",
            "thunderstorms,rain showers               20.037500         17.618750   \n",
            "thunderstorms,rain showers,fog           21.600000         18.700000   \n",
            "thunderstorms,rain,fog                   20.600000         18.600000   \n",
            "\n",
            "                                         Rel Hum_%  Wind Speed_km/h  \\\n",
            "Weather_Condition                                                     \n",
            "clear                                    64.497738        10.557315   \n",
            "cloudy                                   69.592593        16.127315   \n",
            "drizzle                                  88.243902        16.097561   \n",
            "drizzle,fog                              93.275000        11.862500   \n",
            "drizzle,ice pellets,fog                  92.000000        20.000000   \n",
            "drizzle,snow                             93.500000        14.000000   \n",
            "drizzle,snow,fog                         95.866667        15.533333   \n",
            "fog                                      92.286667         7.946667   \n",
            "freezing drizzle                         83.571429        16.571429   \n",
            "freezing drizzle,fog                     88.500000        17.000000   \n",
            "freezing drizzle,haze                    82.000000        10.333333   \n",
            "freezing drizzle,snow                    86.090909        16.272727   \n",
            "freezing fog                             87.750000         4.750000   \n",
            "freezing rain                            84.642857        19.214286   \n",
            "freezing rain,fog                        89.500000        15.500000   \n",
            "freezing rain,haze                       82.500000         7.500000   \n",
            "freezing rain,ice pellets,fog            92.000000        28.000000   \n",
            "freezing rain,snow grains                84.000000        32.000000   \n",
            "haze                                     81.625000        10.437500   \n",
            "mainly clear                             60.667142        14.144824   \n",
            "moderate rain,fog                        94.000000        17.000000   \n",
            "moderate snow                            87.750000        33.750000   \n",
            "moderate snow,blowing snow               92.500000        40.000000   \n",
            "mostly cloudy                            62.102465        15.813920   \n",
            "rain                                     83.624183        19.254902   \n",
            "rain showers                             75.159574        17.132979   \n",
            "rain showers,fog                         96.000000        13.000000   \n",
            "rain showers,snow showers                76.500000        22.500000   \n",
            "rain,fog                                 93.189655        14.793103   \n",
            "rain,haze                                83.333333        11.666667   \n",
            "rain,ice pellets                         92.000000        24.000000   \n",
            "rain,snow                                89.000000        28.388889   \n",
            "rain,snow grains                         75.000000        26.000000   \n",
            "rain,snow,fog                            96.000000         9.000000   \n",
            "rain,snow,ice pellets                    91.500000        23.250000   \n",
            "snow                                     79.307692        20.038462   \n",
            "snow pellets                             59.000000        35.000000   \n",
            "snow showers                             72.350000        19.233333   \n",
            "snow showers,fog                         90.750000        13.750000   \n",
            "snow,blowing snow                        84.473684        34.842105   \n",
            "snow,fog                                 90.675676        17.324324   \n",
            "snow,haze                                80.600000         5.000000   \n",
            "snow,ice pellets                         87.666667        23.833333   \n",
            "thunderstorms                            77.000000         7.500000   \n",
            "thunderstorms,heavy rain showers         88.000000         9.000000   \n",
            "thunderstorms,moderate rain showers,fog  93.000000        15.000000   \n",
            "thunderstorms,rain                       89.000000        15.666667   \n",
            "thunderstorms,rain showers               86.375000        18.312500   \n",
            "thunderstorms,rain showers,fog           84.000000        19.666667   \n",
            "thunderstorms,rain,fog                   88.000000        19.000000   \n",
            "\n",
            "                                         Visibility_km   Press_kPa  \n",
            "Weather_Condition                                                   \n",
            "clear                                        30.153243  101.587443  \n",
            "cloudy                                       26.625752  100.911441  \n",
            "drizzle                                      17.931707  100.435366  \n",
            "drizzle,fog                                   5.257500  100.786625  \n",
            "drizzle,ice pellets,fog                       4.000000  100.790000  \n",
            "drizzle,snow                                 10.500000  100.890000  \n",
            "drizzle,snow,fog                              5.513333   99.281333  \n",
            "fog                                           6.248000  101.184067  \n",
            "freezing drizzle                              9.200000  100.202857  \n",
            "freezing drizzle,fog                          5.266667  100.441667  \n",
            "freezing drizzle,haze                         2.666667  100.316667  \n",
            "freezing drizzle,snow                         5.872727  100.520909  \n",
            "freezing fog                                  0.650000  102.320000  \n",
            "freezing rain                                 8.242857   99.647143  \n",
            "freezing rain,fog                             7.550000   99.945000  \n",
            "freezing rain,haze                            2.400000  100.375000  \n",
            "freezing rain,ice pellets,fog                 8.000000  100.950000  \n",
            "freezing rain,snow grains                     4.800000   98.560000  \n",
            "haze                                          7.831250  101.482500  \n",
            "mainly clear                                 34.264862  101.248832  \n",
            "moderate rain,fog                             6.400000   99.980000  \n",
            "moderate snow                                 0.750000  100.275000  \n",
            "moderate snow,blowing snow                    0.600000  100.570000  \n",
            "mostly cloudy                                31.253842  101.025288  \n",
            "rain                                         18.856536  100.233333  \n",
            "rain showers                                 22.816489  100.404043  \n",
            "rain showers,fog                              6.400000   99.830000  \n",
            "rain showers,snow showers                    21.700000  101.100000  \n",
            "rain,fog                                      6.873276  100.500862  \n",
            "rain,haze                                     6.700000  100.540000  \n",
            "rain,ice pellets                              9.700000  100.120000  \n",
            "rain,snow                                    11.672222   99.951111  \n",
            "rain,snow grains                             25.000000  100.600000  \n",
            "rain,snow,fog                                 6.400000  100.730000  \n",
            "rain,snow,ice pellets                         6.000000  100.105000  \n",
            "snow                                         11.171795  100.536103  \n",
            "snow pellets                                  2.400000   99.700000  \n",
            "snow showers                                 20.158333  100.963500  \n",
            "snow showers,fog                              7.025000  101.292500  \n",
            "snow,blowing snow                             4.105263   99.704737  \n",
            "snow,fog                                      4.537838  100.688649  \n",
            "snow,haze                                     4.640000  100.782000  \n",
            "snow,ice pellets                              7.416667  100.548333  \n",
            "thunderstorms                                24.550000  100.230000  \n",
            "thunderstorms,heavy rain showers              2.400000  100.260000  \n",
            "thunderstorms,moderate rain showers,fog       3.200000  100.010000  \n",
            "thunderstorms,rain                           19.833333  100.420000  \n",
            "thunderstorms,rain showers                   15.893750  100.233750  \n",
            "thunderstorms,rain showers,fog                9.700000  100.063333  \n",
            "thunderstorms,rain,fog                        4.800000  100.080000  \n"
          ]
        }
      ]
    },
    {
      "cell_type": "markdown",
      "source": [
        "**8. Find all instances where the weather is clear and the relative humidity is greater than 50, or visibility is above 40.**"
      ],
      "metadata": {
        "id": "_3a0GZkWqEHc"
      }
    },
    {
      "cell_type": "code",
      "source": [
        "filtered_data = data [\n",
        "    (data[\"Weather_Condition\"] == 'clear') &\n",
        "    ((data[\"Rel Hum_%\"] > 50)  | (data['Visibility_km'] > 40))\n",
        "]\n",
        "\n",
        "print(filtered_data)"
      ],
      "metadata": {
        "colab": {
          "base_uri": "https://localhost:8080/"
        },
        "id": "0RbuP_sX73mt",
        "outputId": "073eb0c4-b287-469b-adac-38104e1002d8"
      },
      "execution_count": 25,
      "outputs": [
        {
          "output_type": "stream",
          "name": "stdout",
          "text": [
            "             Date/Time  Temp_C  Dew Point Temp_C  Rel Hum_%  Wind Speed_km/h  \\\n",
            "114     1/5/2012 18:00    -7.1             -14.4         56               11   \n",
            "115     1/5/2012 19:00    -9.2             -15.4         61                7   \n",
            "116     1/5/2012 20:00    -9.8             -15.7         62                9   \n",
            "117     1/5/2012 21:00    -9.0             -14.8         63               13   \n",
            "241     1/11/2012 1:00   -10.7             -17.8         56               17   \n",
            "...                ...     ...               ...        ...              ...   \n",
            "8646   12/26/2012 6:00   -13.4             -14.8         89                4   \n",
            "8698  12/28/2012 10:00    -6.1              -8.6         82               19   \n",
            "8713   12/29/2012 1:00   -11.9             -13.6         87               11   \n",
            "8714   12/29/2012 2:00   -11.8             -13.1         90               13   \n",
            "8756  12/30/2012 20:00   -13.8             -16.5         80               24   \n",
            "\n",
            "      Visibility_km  Press_kPa Weather_Condition  \n",
            "114            25.0     100.71             clear  \n",
            "115            25.0     100.80             clear  \n",
            "116            25.0     100.83             clear  \n",
            "117            25.0     100.83             clear  \n",
            "241            25.0     101.49             clear  \n",
            "...             ...        ...               ...  \n",
            "8646           25.0     102.47             clear  \n",
            "8698           24.1     101.27             clear  \n",
            "8713           25.0     101.31             clear  \n",
            "8714           25.0     101.33             clear  \n",
            "8756           25.0     101.52             clear  \n",
            "\n",
            "[1220 rows x 8 columns]\n"
          ]
        }
      ]
    },
    {
      "cell_type": "markdown",
      "source": [
        "**9. Find the number of weather conditions that include snow.**"
      ],
      "metadata": {
        "id": "atu9lOubqMz3"
      }
    },
    {
      "cell_type": "code",
      "source": [
        "count = 0\n",
        "for x in data['Weather_Condition']:\n",
        "  if x.lower() == 'snow':\n",
        "    count += 1\n",
        "\n",
        "print(count)"
      ],
      "metadata": {
        "colab": {
          "base_uri": "https://localhost:8080/"
        },
        "id": "NZjLINSuDNmc",
        "outputId": "594a26aa-0469-402e-f85c-195ee3e8219b"
      },
      "execution_count": 26,
      "outputs": [
        {
          "output_type": "stream",
          "name": "stdout",
          "text": [
            "390\n"
          ]
        }
      ]
    }
  ]
}